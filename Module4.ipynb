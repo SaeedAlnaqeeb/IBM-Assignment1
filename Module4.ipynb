{
 "cells": [
  {
   "cell_type": "markdown",
   "id": "d33696de-10e7-4aa2-a446-e00909565870",
   "metadata": {},
   "source": [
    "# Title: Module 4 Assignement"
   ]
  },
  {
   "cell_type": "markdown",
   "id": "93653ef1-5d0d-4c0b-9e6d-7e285ec4a3cb",
   "metadata": {},
   "source": [
    "### Objectives\n",
    "\n",
    "In this assignment, I will do the following:\n",
    "- Write an introduction\n",
    "- List data science Languages\n",
    "- List data science libraries\n",
    "- Create a table for data science tools\n",
    "- Provide arithmetic expression examples\n",
    "- Create a multiplication and an addition functions\n",
    "- Create a function that convert minutes to hours"
   ]
  },
  {
   "cell_type": "markdown",
   "id": "3c1806f9-ab67-4edc-8f36-965826be1c4f",
   "metadata": {
    "jp-MarkdownHeadingCollapsed": true,
    "tags": []
   },
   "source": [
    "### Introduction:\n",
    "### I am a Computer Science student at my final year, currently developing my skills to become a Data Scientist. I am participating in this program in order to advance my knowledge and skills and be able to land my first job right after I graduate."
   ]
  },
  {
   "cell_type": "markdown",
   "id": "e9773401-a622-46fa-b248-fd1e7fa86ffa",
   "metadata": {
    "tags": []
   },
   "source": [
    "### Data Science Languages:\n",
    "- Python\n",
    "- R\n",
    "- SQL\n",
    "- Julia\n",
    "- Scala"
   ]
  },
  {
   "cell_type": "markdown",
   "id": "1a101ebe-64d9-4fab-b421-8052d37ddfc0",
   "metadata": {},
   "source": [
    "### Data Science Libraries:\n",
    "- Numpy\n",
    "- Pandas\n",
    "- TensorFlow\n",
    "- SciPy\n",
    "- Sci-Kit Learn\n",
    "- Matplotlib"
   ]
  },
  {
   "cell_type": "markdown",
   "id": "13cae1cf-318e-4aaa-aebf-3b7e7f69746a",
   "metadata": {},
   "source": [
    "### Data Science Tools:\n",
    "| Tool      | Description |\n",
    "| ----------- | ----------- |\n",
    "| Jupyter Notebook      | -       |\n",
    "| RStudio   | -        |\n",
    "| IBM Watson   | -        |"
   ]
  },
  {
   "cell_type": "markdown",
   "id": "80462c2e-e6ac-4bbf-9f99-0d28ceb4369b",
   "metadata": {},
   "source": [
    "### Arithmetic Expression Examples:\n",
    "- 5: A number.\n",
    "- (3 + 4): The sum of numbers.\n",
    "- (7 - 3): The difference of two numbers.\n",
    "- (2 5), 2 5: A product of two numbers."
   ]
  },
  {
   "cell_type": "code",
   "execution_count": 8,
   "id": "6b4e86ae-a7c9-45b4-8dcf-519e30604739",
   "metadata": {},
   "outputs": [
    {
     "name": "stdout",
     "output_type": "stream",
     "text": [
      "10\n"
     ]
    }
   ],
   "source": [
    "# Multiplication\n",
    "def Multiply(x, y):\n",
    "    return x * y\n",
    "\n",
    "print(Multiply(2, 5))"
   ]
  },
  {
   "cell_type": "code",
   "execution_count": 9,
   "id": "39a51732-7429-4fd8-aa89-bcfbd4430cbc",
   "metadata": {},
   "outputs": [
    {
     "name": "stdout",
     "output_type": "stream",
     "text": [
      "6\n"
     ]
    }
   ],
   "source": [
    "# Addition\n",
    "def Add(x, y):\n",
    "    return x + y\n",
    "\n",
    "print(Add(3, 3))"
   ]
  },
  {
   "cell_type": "code",
   "execution_count": 10,
   "id": "0bef89da-2790-40ea-aaf1-5d8857a27e80",
   "metadata": {},
   "outputs": [
    {
     "name": "stdout",
     "output_type": "stream",
     "text": [
      "1.5\n"
     ]
    }
   ],
   "source": [
    "# Minutes to hours\n",
    "def TimeConv(mins):\n",
    "    return mins / 60\n",
    "\n",
    "print(TimeConv(90))"
   ]
  },
  {
   "cell_type": "markdown",
   "id": "ff44d610-b08f-4a06-afcc-ed3654ab2753",
   "metadata": {},
   "source": [
    "# Author\n",
    "## Saeed Alnaqeeb"
   ]
  }
 ],
 "metadata": {
  "kernelspec": {
   "display_name": "Python",
   "language": "python",
   "name": "conda-env-python-py"
  },
  "language_info": {
   "codemirror_mode": {
    "name": "ipython",
    "version": 3
   },
   "file_extension": ".py",
   "mimetype": "text/x-python",
   "name": "python",
   "nbconvert_exporter": "python",
   "pygments_lexer": "ipython3",
   "version": "3.7.12"
  }
 },
 "nbformat": 4,
 "nbformat_minor": 5
}
